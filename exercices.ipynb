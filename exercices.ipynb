{
 "cells": [
  {
   "cell_type": "code",
   "execution_count": 9,
   "metadata": {},
   "outputs": [],
   "source": [
    "class Rectangle:\n",
    "    def __init__(self,plo,pla):\n",
    "        self.lo=plo\n",
    "        self.la=pla\n",
    "        \n",
    "    def Perimetre(self):\n",
    "        return self.lo*2+sel.la*2\n",
    "        \n",
    "    def Surface(self):\n",
    "        return self.la*self.lo\n",
    "        \n",
    "    def getLo(self):\n",
    "        return self.lo\n",
    "    def getLa(self):\n",
    "        return self.la\n",
    "    \n",
    "class Parallelepipede(Rectangle):\n",
    "    def __init__(self,plo,pla,ph):\n",
    "        self.lo=plo\n",
    "        self.la=pla\n",
    "        self.h=ph\n",
    "        \n",
    "    def Volume(self):\n",
    "        return self.Surface()*self.h\n",
    "    \n",
    "    def getH(self):\n",
    "        return self.h\n",
    "        "
   ]
  },
  {
   "cell_type": "code",
   "execution_count": 6,
   "metadata": {},
   "outputs": [
    {
     "ename": "TypeError",
     "evalue": "__init__() takes 2 positional arguments but 4 were given",
     "output_type": "error",
     "traceback": [
      "\u001b[1;31m---------------------------------------------------------------------------\u001b[0m",
      "\u001b[1;31mTypeError\u001b[0m                                 Traceback (most recent call last)",
      "\u001b[1;32m<ipython-input-6-3dd379965611>\u001b[0m in \u001b[0;36m<module>\u001b[1;34m\u001b[0m\n\u001b[1;32m----> 1\u001b[1;33m \u001b[0mmyParallelepipede\u001b[0m \u001b[1;33m=\u001b[0m \u001b[0mParallelepipede\u001b[0m\u001b[1;33m(\u001b[0m\u001b[1;36m3\u001b[0m\u001b[1;33m,\u001b[0m\u001b[1;36m4\u001b[0m\u001b[1;33m,\u001b[0m\u001b[1;36m5\u001b[0m\u001b[1;33m)\u001b[0m\u001b[1;33m\u001b[0m\u001b[1;33m\u001b[0m\u001b[0m\n\u001b[0m\u001b[0;32m      2\u001b[0m \u001b[0mprint\u001b[0m\u001b[1;33m(\u001b[0m\u001b[0mmyParallelepipede\u001b[0m\u001b[1;33m.\u001b[0m\u001b[0mgetLo\u001b[0m\u001b[1;33m(\u001b[0m\u001b[1;33m)\u001b[0m\u001b[1;33m,\u001b[0m\u001b[0mmyParallelepipede\u001b[0m\u001b[1;33m.\u001b[0m\u001b[0mgetLa\u001b[0m\u001b[1;33m(\u001b[0m\u001b[1;33m)\u001b[0m\u001b[1;33m,\u001b[0m\u001b[0mmyParallelepipede\u001b[0m\u001b[1;33m.\u001b[0m\u001b[0mgeth\u001b[0m\u001b[1;33m(\u001b[0m\u001b[1;33m)\u001b[0m\u001b[1;33m)\u001b[0m\u001b[1;33m\u001b[0m\u001b[1;33m\u001b[0m\u001b[0m\n",
      "\u001b[1;31mTypeError\u001b[0m: __init__() takes 2 positional arguments but 4 were given"
     ]
    }
   ],
   "source": [
    "myParallelepipede = Parallelepipede(3,4,5)\n",
    "print(myParallelepipede.getLo(),myParallelepipede.getLa(),myParallelepipede.geth())"
   ]
  },
  {
   "cell_type": "code",
   "execution_count": null,
   "metadata": {},
   "outputs": [],
   "source": []
  },
  {
   "cell_type": "code",
   "execution_count": null,
   "metadata": {},
   "outputs": [],
   "source": []
  }
 ],
 "metadata": {
  "kernelspec": {
   "display_name": "Python 3",
   "language": "python",
   "name": "python3"
  },
  "language_info": {
   "codemirror_mode": {
    "name": "ipython",
    "version": 3
   },
   "file_extension": ".py",
   "mimetype": "text/x-python",
   "name": "python",
   "nbconvert_exporter": "python",
   "pygments_lexer": "ipython3",
   "version": "3.7.6"
  }
 },
 "nbformat": 4,
 "nbformat_minor": 4
}
